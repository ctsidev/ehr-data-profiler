{
 "cells": [
  {
   "cell_type": "markdown",
   "metadata": {},
   "source": [
    "# EHR Data Profiler\n",
    "\n",
    "Documentation of the functions available in the library as well as an in-depth tutorial on the use of `text_search` can be found on the project's GitHub page:\n",
    "<a href=\"https://github.com/ctsidev/ehr-data-profiler#function-library\">https://github.com/ctsidev/ehr-data-profiler#function-library</a>\n",
    "\n",
    "### Run the next cell to make all the imports, which include Pandas and the EHR data anaylsis functions:\n"
   ]
  },
  {
   "cell_type": "code",
   "execution_count": null,
   "metadata": {},
   "outputs": [],
   "source": [
    "import pandas as pd\n",
    "import matplotlib.pyplot as plt\n",
    "from lib.ehr_dp_lib import *\n",
    "pd.set_option('display.max_colwidth', None)\n",
    "pd.set_option('display.max_rows', 500)"
   ]
  },
  {
   "cell_type": "markdown",
   "metadata": {},
   "source": [
    "### Run the following block to describe the tables in your Data folder:"
   ]
  },
  {
   "cell_type": "code",
   "execution_count": null,
   "metadata": {},
   "outputs": [],
   "source": [
    "describe_tables()"
   ]
  },
  {
   "cell_type": "markdown",
   "metadata": {},
   "source": [
    "### PATIENT_DEMOGRAPHICS"
   ]
  },
  {
   "cell_type": "code",
   "execution_count": null,
   "metadata": {},
   "outputs": [],
   "source": [
    "patient_demographics_df = pd.read_csv('Data/Patient_Demographics.csv')\n",
    "patient_demographics_df"
   ]
  },
  {
   "cell_type": "code",
   "execution_count": null,
   "metadata": {},
   "outputs": [],
   "source": [
    "missingness(patient_demographics_df)"
   ]
  },
  {
   "cell_type": "code",
   "execution_count": null,
   "metadata": {},
   "outputs": [],
   "source": [
    "table_1(patient_demographics_df)"
   ]
  },
  {
   "cell_type": "code",
   "execution_count": null,
   "metadata": {},
   "outputs": [],
   "source": [
    "catbar(patient_demographics_df, 'LANGUAGE', graph=False) ## Set graph=True for Bar graph"
   ]
  },
  {
   "cell_type": "code",
   "execution_count": null,
   "metadata": {},
   "outputs": [],
   "source": [
    "catbar(patient_demographics_df, 'SEX', graph=False) ## Set graph=True for Bar graph"
   ]
  },
  {
   "cell_type": "code",
   "execution_count": null,
   "metadata": {},
   "outputs": [],
   "source": [
    "catbar(patient_demographics_df, 'MARITAL_STATUS', graph=False) ## Set graph=True for Bar graph"
   ]
  },
  {
   "cell_type": "code",
   "execution_count": null,
   "metadata": {},
   "outputs": [],
   "source": [
    "catbar(patient_demographics_df, 'ETHNICITY', graph=False) ## Set graph=True for Bar graph"
   ]
  },
  {
   "cell_type": "code",
   "execution_count": null,
   "metadata": {},
   "outputs": [],
   "source": [
    "numstats(patient_demographics_df, 'AGE')"
   ]
  },
  {
   "cell_type": "code",
   "execution_count": null,
   "metadata": {},
   "outputs": [],
   "source": [
    "catbar(patient_demographics_df, 'RELIGION', graph=False) ## Set graph=True for Bar graph"
   ]
  },
  {
   "cell_type": "code",
   "execution_count": null,
   "metadata": {},
   "outputs": [],
   "source": [
    "catbar(patient_demographics_df, 'RACE', graph=False) ## Set graph=True for Bar graph"
   ]
  },
  {
   "cell_type": "code",
   "execution_count": null,
   "metadata": {},
   "outputs": [],
   "source": [
    "catbar(patient_demographics_df, 'SEXUAL_ORIENTATION', graph=False) ## Set graph=True for Bar graph"
   ]
  },
  {
   "cell_type": "markdown",
   "metadata": {},
   "source": [
    "### ENCOUNTERS"
   ]
  },
  {
   "cell_type": "code",
   "execution_count": null,
   "metadata": {},
   "outputs": [],
   "source": [
    "encounters_df = pd.read_csv('Data/Encounters.csv')\n",
    "encounters_df"
   ]
  },
  {
   "cell_type": "code",
   "execution_count": null,
   "metadata": {},
   "outputs": [],
   "source": [
    "missingness(encounters_df)"
   ]
  },
  {
   "cell_type": "code",
   "execution_count": null,
   "metadata": {},
   "outputs": [],
   "source": [
    "occurrence_stats(encounters_df, 'IP_ENC_ID')"
   ]
  },
  {
   "cell_type": "code",
   "execution_count": null,
   "metadata": {},
   "outputs": [],
   "source": [
    "dateline(encounters_df, 'ENCOUNTER_DATE')"
   ]
  },
  {
   "cell_type": "code",
   "execution_count": null,
   "metadata": {},
   "outputs": [],
   "source": [
    "numstats(encounters_df, 'ENCOUNTER_AGE')"
   ]
  },
  {
   "cell_type": "code",
   "execution_count": null,
   "metadata": {},
   "outputs": [],
   "source": [
    "catbar(encounters_df, 'EPIC_ENCOUNTER_TYPE', graph=False) ## Set graph=True for Bar graph"
   ]
  },
  {
   "cell_type": "code",
   "execution_count": null,
   "metadata": {},
   "outputs": [],
   "source": [
    "catbar(encounters_df, 'IP_VISIT_TYPE', graph=False) ## Set graph=True for Bar graph"
   ]
  },
  {
   "cell_type": "code",
   "execution_count": null,
   "metadata": {},
   "outputs": [],
   "source": [
    "catbar(encounters_df, 'EPIC_DEPARTMENT_NAME', graph=False) ## Set graph=True for Bar graph"
   ]
  },
  {
   "cell_type": "code",
   "execution_count": null,
   "metadata": {},
   "outputs": [],
   "source": [
    "catbar(encounters_df, 'HOSP_DISCHARGE_DISPOSITION', graph=False) ## Set graph=True for Bar graph"
   ]
  },
  {
   "cell_type": "code",
   "execution_count": null,
   "metadata": {},
   "outputs": [],
   "source": [
    "catbar(encounters_df, 'ED_DISPOSITION', graph=False) ## Set graph=True for Bar graph"
   ]
  },
  {
   "cell_type": "code",
   "execution_count": null,
   "metadata": {},
   "outputs": [],
   "source": [
    "catbar(encounters_df, 'DEPARTMENT_SPECIALTY', graph=False) ## Set graph=True for Bar graph"
   ]
  },
  {
   "cell_type": "code",
   "execution_count": null,
   "metadata": {},
   "outputs": [],
   "source": [
    "catbar(encounters_df, 'LOCATION', graph=False) ## Set graph=True for Bar graph"
   ]
  },
  {
   "cell_type": "markdown",
   "metadata": {},
   "source": [
    "### ENCOUNTER_DIAGNOSES"
   ]
  },
  {
   "cell_type": "code",
   "execution_count": null,
   "metadata": {},
   "outputs": [],
   "source": [
    "encounter_diagnoses_df = pd.read_csv('Data/Encounter_Diagnoses.csv')\n",
    "encounter_diagnoses_df"
   ]
  },
  {
   "cell_type": "code",
   "execution_count": null,
   "metadata": {},
   "outputs": [],
   "source": [
    "missingness(encounter_diagnoses_df)"
   ]
  },
  {
   "cell_type": "code",
   "execution_count": null,
   "metadata": {},
   "outputs": [],
   "source": [
    "occurrence_stats(encounter_diagnoses_df, 'IP_ENC_ID')"
   ]
  },
  {
   "cell_type": "code",
   "execution_count": null,
   "metadata": {},
   "outputs": [],
   "source": [
    "dateline(encounter_diagnoses_df, 'DIAGNOSIS_DATE')"
   ]
  },
  {
   "cell_type": "code",
   "execution_count": null,
   "metadata": {},
   "outputs": [],
   "source": [
    "catbar(encounter_diagnoses_df, 'PRESENT_ON_ADMISSION', graph=False) ## Set graph=True for Bar graph"
   ]
  },
  {
   "cell_type": "code",
   "execution_count": null,
   "metadata": {},
   "outputs": [],
   "source": [
    "catbar(encounter_diagnoses_df, 'ADMISSION_DIAGNOSIS_FLAG', graph=False) ## Set graph=True for Bar graph"
   ]
  },
  {
   "cell_type": "code",
   "execution_count": null,
   "metadata": {},
   "outputs": [],
   "source": [
    "catbar(encounter_diagnoses_df, 'HOSPITAL_FINAL_DIAGNOSIS', graph=False) ## Set graph=True for Bar graph"
   ]
  },
  {
   "cell_type": "code",
   "execution_count": null,
   "metadata": {},
   "outputs": [],
   "source": [
    "catbar(encounter_diagnoses_df, 'PRIMARY_DIAGNOSIS_FLAG', graph=False) ## Set graph=True for Bar graph"
   ]
  },
  {
   "cell_type": "markdown",
   "metadata": {},
   "source": [
    "### PROCEDURES"
   ]
  },
  {
   "cell_type": "code",
   "execution_count": null,
   "metadata": {},
   "outputs": [],
   "source": [
    "procedures_df = pd.read_csv('Data/Procedures.csv')\n",
    "procedures_df"
   ]
  },
  {
   "cell_type": "code",
   "execution_count": null,
   "metadata": {},
   "outputs": [],
   "source": [
    "missingness(procedures_df)"
   ]
  },
  {
   "cell_type": "code",
   "execution_count": null,
   "metadata": {},
   "outputs": [],
   "source": [
    "occurrence_stats(procedures_df, 'IP_ENC_ID')"
   ]
  },
  {
   "cell_type": "code",
   "execution_count": null,
   "metadata": {},
   "outputs": [],
   "source": [
    "dateline(procedures_df, 'PROCEDURE_DATE')"
   ]
  },
  {
   "cell_type": "code",
   "execution_count": null,
   "metadata": {},
   "outputs": [],
   "source": [
    "catbar(procedures_df, 'PROCEDURE_DESCRIPTION', graph=False) ## Set graph=True for Bar graph"
   ]
  },
  {
   "cell_type": "code",
   "execution_count": null,
   "metadata": {},
   "outputs": [],
   "source": [
    "catbar(procedures_df, 'PROCEDURE_CODE', graph=False) ## Set graph=True for Bar graph"
   ]
  },
  {
   "cell_type": "code",
   "execution_count": null,
   "metadata": {},
   "outputs": [],
   "source": [
    "catbar(procedures_df, 'PROCEDURE_TYPE', graph=False) ## Set graph=True for Bar graph"
   ]
  },
  {
   "cell_type": "markdown",
   "metadata": {},
   "source": [
    "### FLOWSHEET_VITALS"
   ]
  },
  {
   "cell_type": "code",
   "execution_count": null,
   "metadata": {},
   "outputs": [],
   "source": [
    "flowsheet_vitals_df = pd.read_csv('Data/Flowsheet_Vitals.csv')\n",
    "flowsheet_vitals_df"
   ]
  },
  {
   "cell_type": "code",
   "execution_count": null,
   "metadata": {},
   "outputs": [],
   "source": [
    "missingness(flowsheet_vitals_df)"
   ]
  },
  {
   "cell_type": "code",
   "execution_count": null,
   "metadata": {},
   "outputs": [],
   "source": [
    "occurrence_stats(flowsheet_vitals_df, 'IP_ENC_ID')"
   ]
  },
  {
   "cell_type": "code",
   "execution_count": null,
   "metadata": {},
   "outputs": [],
   "source": [
    "dateline(flowsheet_vitals_df, 'VITAL_SIGN_TAKEN_TIME')"
   ]
  },
  {
   "cell_type": "code",
   "execution_count": null,
   "metadata": {},
   "outputs": [],
   "source": [
    "catbar(flowsheet_vitals_df, 'VITAL_SIGN_TYPE', graph=False) ## Set graph=True for Bar graph"
   ]
  },
  {
   "cell_type": "code",
   "execution_count": null,
   "metadata": {},
   "outputs": [],
   "source": [
    "flow_stats(flowsheet_vitals_df)"
   ]
  },
  {
   "cell_type": "markdown",
   "metadata": {},
   "source": [
    "### LABS"
   ]
  },
  {
   "cell_type": "code",
   "execution_count": null,
   "metadata": {},
   "outputs": [],
   "source": [
    "labs_df = pd.read_csv('Data/Labs.csv')\n",
    "labs_df"
   ]
  },
  {
   "cell_type": "code",
   "execution_count": null,
   "metadata": {},
   "outputs": [],
   "source": [
    "missingness(labs_df)"
   ]
  },
  {
   "cell_type": "code",
   "execution_count": null,
   "metadata": {},
   "outputs": [],
   "source": [
    "occurrence_stats(labs_df, 'IP_ORDER_PROC_ID')"
   ]
  },
  {
   "cell_type": "code",
   "execution_count": null,
   "metadata": {},
   "outputs": [],
   "source": [
    "dateline(labs_df, 'ORDER_TIME')"
   ]
  },
  {
   "cell_type": "code",
   "execution_count": null,
   "metadata": {},
   "outputs": [],
   "source": [
    "catbar(labs_df, 'PROCEDURE_CODE', graph=False) ## Set graph=True for Bar graph"
   ]
  },
  {
   "cell_type": "code",
   "execution_count": null,
   "metadata": {},
   "outputs": [],
   "source": [
    "catbar(labs_df, 'COMPONENT_NAME', graph=False) ## Set graph=True for Bar graph"
   ]
  },
  {
   "cell_type": "code",
   "execution_count": null,
   "metadata": {},
   "outputs": [],
   "source": [
    "catbar(labs_df, 'PROCEDURE_DESCRIPTION', graph=False) ## Set graph=True for Bar graph"
   ]
  },
  {
   "cell_type": "code",
   "execution_count": null,
   "metadata": {},
   "outputs": [],
   "source": [
    "lab_stats(labs_df, top=10)"
   ]
  },
  {
   "cell_type": "markdown",
   "metadata": {},
   "source": [
    "### MEDICATIONS"
   ]
  },
  {
   "cell_type": "code",
   "execution_count": null,
   "metadata": {},
   "outputs": [],
   "source": [
    "medications_df = pd.read_csv('Data/Medications.csv')\n",
    "medications_df"
   ]
  },
  {
   "cell_type": "code",
   "execution_count": null,
   "metadata": {},
   "outputs": [],
   "source": [
    "missingness(medications_df)"
   ]
  },
  {
   "cell_type": "code",
   "execution_count": null,
   "metadata": {},
   "outputs": [],
   "source": [
    "occurrence_stats(medications_df, 'IP_ORDER_MED_ID')"
   ]
  },
  {
   "cell_type": "code",
   "execution_count": null,
   "metadata": {},
   "outputs": [],
   "source": [
    "dateline(medications_df, 'ORDER_DATE')"
   ]
  },
  {
   "cell_type": "code",
   "execution_count": null,
   "metadata": {},
   "outputs": [],
   "source": [
    "catbar(medications_df, 'EPIC_MEDICATION_NAME', graph=False) ## Set graph=True for Bar graph"
   ]
  },
  {
   "cell_type": "code",
   "execution_count": null,
   "metadata": {},
   "outputs": [],
   "source": [
    "catbar(medications_df, 'MEDISPAN_GENERIC_NAME', graph=False) ## Set graph=True for Bar graph"
   ]
  },
  {
   "cell_type": "code",
   "execution_count": null,
   "metadata": {},
   "outputs": [],
   "source": [
    "catbar(medications_df, 'MEDISPAN_CLASS_NAME', graph=False) ## Set graph=True for Bar graph"
   ]
  }
 ],
 "metadata": {
  "language": "python"
 },
 "nbformat": 4,
 "nbformat_minor": 2
}
