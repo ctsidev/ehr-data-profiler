{
 "cells": [
  {
   "cell_type": "markdown",
   "metadata": {},
   "source": [
    "# EHR Data Profiler\n",
    "## Run the next cell to make all the imports, which include Pandas and the EHR data anaylsis functions:"
   ]
  },
  {
   "cell_type": "code",
   "execution_count": 1,
   "metadata": {},
   "outputs": [],
   "source": [
    "import pandas as pd\n",
    "import matplotlib.pyplot as plt\n",
    "from lib.ehr_dp_lib import *\n",
    "pd.set_option('display.max_colwidth', None)"
   ]
  },
  {
   "cell_type": "markdown",
   "metadata": {},
   "source": [
    "## The following cells in this notebook are auto-generated from the data in the 'Data' folder\n",
    "## For each table a Pandas dataframe is created to connect to each table\n",
    "\n",
    "### Below is a list of the EHR Data Profiler functions, arguments, and descriptions:\n",
    "\n",
    "\n",
    "- **missingness( *dataframe name* )**: Returns a dataframe of the number of null values per column.\n",
    "\n",
    "\n",
    "- **catbar( *dataframe name, column name, graph=(True or False)*)**: \\[Generated on *categorical* data type only\\] Returns a dataframe of counts of all the groups of categories in the specific column in the dataframe. When `graph` argument set to `True` returns a bar graph.\n",
    "\n",
    "\n",
    "- **numstats( *dataframe name, column name* )**: \\[Generated on *number* data type only\\] Returns a dataframe of descriptive statistics (ie. mean, max, min, median, quartiles) for the column data.\n",
    "\n",
    "\n",
    "- **dateline( *dataframe name, column name* )**: \\[Generated on *date* data type only\\] Returns a line graph of the freuency of specific dates along an x-axis of time.\n",
    "\n",
    "\n",
    "- **flow_stats( *flowsheet dataframe* )**: \\[Generated only if Flowsheet_Vitals.csv table in Data folder\\] Returns a dataframe of descriptive statistics for common vitals sign types (ie. Height, Weight, Temperature, Sp02, Pulse, BMI, Respirations).\n",
    "\n",
    "\n",
    "- **lab_stats( *lab dataframe, top=(10 or greater)* )**: \\[Generated only if Labs.csv table in Data folder\\] Returns a dataframe of descriptive statistics for top lab procedures in dataset. The `top` argument can be adjusted to capture more lab procedures."
   ]
  },
  {
   "cell_type": "markdown",
   "metadata": {},
   "source": [
    "## Using TEXT_SEARCH\n",
    "\n",
    "### Another useful function included is 'text_search'. It is useful way to search specific columns in dataframes for text and return only those rows that contain the text.\n",
    "\n",
    "- **text_search( *dataframe name, column name, text to search, ignore case=(True by default can also be set to False)* )**\n",
    "\n",
    "\n",
    "### Example:\n",
    "If you wanted to search Patient Demographics data for patients whose 'ETHNICITY' contains the text 'latino' using text_search:\n",
    "`text_search(patient_demographics_df, 'ETHNICITY', 'latino')`\n",
    "\n",
    "Result:\n",
    "![latino_search.PNG](lib/latino_search.PNG)\n",
    "\n",
    "\n",
    "## Combining TEXT_SEARCH with other functions:\n",
    "### You can also combine functions to get the a specific analytical calculation. \n",
    "\n",
    "### Example:\n",
    "If you wanted to get a set of counts of the categories in `SEX` of the patients (ie. Male, Female) in the previous dataset of 'latino'. First, you would need to assign the result of the `text_search` to a new value, in this case `latino_pats`:\n",
    "\n",
    "`latino_pats = text_search(patient_demographics_df, 'ETHNICITY', 'latino')\n",
    "catbar(latino_pats, 'SEX', graph='True')`\n",
    "\n",
    "Result:\n",
    "![latino_gender_search.PNG](lib/latino_gender_search.PNG)\n"
   ]
  },
  {
   "cell_type": "markdown",
   "metadata": {},
   "source": [
    "## Run the following block to describe the tables in your Data folder:"
   ]
  },
  {
   "cell_type": "code",
   "execution_count": 2,
   "metadata": {},
   "outputs": [
    {
     "data": {
      "text/html": [
       "<div>\n",
       "<style scoped>\n",
       "    .dataframe tbody tr th:only-of-type {\n",
       "        vertical-align: middle;\n",
       "    }\n",
       "\n",
       "    .dataframe tbody tr th {\n",
       "        vertical-align: top;\n",
       "    }\n",
       "\n",
       "    .dataframe thead th {\n",
       "        text-align: right;\n",
       "    }\n",
       "</style>\n",
       "<table border=\"1\" class=\"dataframe\">\n",
       "  <thead>\n",
       "    <tr style=\"text-align: right;\">\n",
       "      <th></th>\n",
       "      <th>TABLE</th>\n",
       "      <th>ROW_COUNT</th>\n",
       "      <th>COLUMN_COUNT</th>\n",
       "      <th>DESCRIPTION</th>\n",
       "    </tr>\n",
       "  </thead>\n",
       "  <tbody>\n",
       "    <tr>\n",
       "      <th>0</th>\n",
       "      <td>Encounters.csv</td>\n",
       "      <td>11207</td>\n",
       "      <td>14</td>\n",
       "      <td>This table holds data for encounters for the patient cohort.  There can be multiple rows per patient, but only one row per encounter.</td>\n",
       "    </tr>\n",
       "    <tr>\n",
       "      <th>1</th>\n",
       "      <td>Encounter_Diagnoses.csv</td>\n",
       "      <td>9126</td>\n",
       "      <td>10</td>\n",
       "      <td>This table holds encounter diagnoses data for the patients in the cohort. There can be multiple rows per patient as well as multiple rows per encounter.</td>\n",
       "    </tr>\n",
       "    <tr>\n",
       "      <th>2</th>\n",
       "      <td>Flowsheet_Vitals.csv</td>\n",
       "      <td>101070</td>\n",
       "      <td>5</td>\n",
       "      <td>This table holds flowsheet information for vital signs for the patients in the cohort. There can be multiple rows per patient.</td>\n",
       "    </tr>\n",
       "    <tr>\n",
       "      <th>3</th>\n",
       "      <td>Labs.csv</td>\n",
       "      <td>27657</td>\n",
       "      <td>14</td>\n",
       "      <td>This table holds all laboratory result information for the patients in the cohort. There can be multiple rows per patient as well as multiple rows per encounter.</td>\n",
       "    </tr>\n",
       "    <tr>\n",
       "      <th>4</th>\n",
       "      <td>Medications.csv</td>\n",
       "      <td>12547</td>\n",
       "      <td>15</td>\n",
       "      <td>This table holds medication information for the patients in the cohort.  There can be multiple rows per patient as well as multiple rows per encounter.</td>\n",
       "    </tr>\n",
       "    <tr>\n",
       "      <th>5</th>\n",
       "      <td>Patient_Demographics.csv</td>\n",
       "      <td>500</td>\n",
       "      <td>19</td>\n",
       "      <td>This table holds demographic information for the patients in the cohort. There is only one row per patient</td>\n",
       "    </tr>\n",
       "    <tr>\n",
       "      <th>6</th>\n",
       "      <td>Procedures.csv</td>\n",
       "      <td>15258</td>\n",
       "      <td>6</td>\n",
       "      <td>This table holds procedure information for the patients in the cohort. There can be multiple rows per patient as well as multiple rows per encounter.</td>\n",
       "    </tr>\n",
       "  </tbody>\n",
       "</table>\n",
       "</div>"
      ],
      "text/plain": [
       "                      TABLE  ROW_COUNT  COLUMN_COUNT  \\\n",
       "0            Encounters.csv      11207            14   \n",
       "1   Encounter_Diagnoses.csv       9126            10   \n",
       "2      Flowsheet_Vitals.csv     101070             5   \n",
       "3                  Labs.csv      27657            14   \n",
       "4           Medications.csv      12547            15   \n",
       "5  Patient_Demographics.csv        500            19   \n",
       "6            Procedures.csv      15258             6   \n",
       "\n",
       "                                                                                                                                                         DESCRIPTION  \n",
       "0                             This table holds data for encounters for the patient cohort.  There can be multiple rows per patient, but only one row per encounter.   \n",
       "1          This table holds encounter diagnoses data for the patients in the cohort. There can be multiple rows per patient as well as multiple rows per encounter.   \n",
       "2                                    This table holds flowsheet information for vital signs for the patients in the cohort. There can be multiple rows per patient.   \n",
       "3  This table holds all laboratory result information for the patients in the cohort. There can be multiple rows per patient as well as multiple rows per encounter.  \n",
       "4            This table holds medication information for the patients in the cohort.  There can be multiple rows per patient as well as multiple rows per encounter.  \n",
       "5                                                         This table holds demographic information for the patients in the cohort. There is only one row per patient  \n",
       "6             This table holds procedure information for the patients in the cohort. There can be multiple rows per patient as well as multiple rows per encounter.   "
      ]
     },
     "execution_count": 2,
     "metadata": {},
     "output_type": "execute_result"
    }
   ],
   "source": [
    "describe_tables()"
   ]
  },
  {
   "cell_type": "markdown",
   "metadata": {},
   "source": [
    "## PATIENT_DEMOGRAPHICS"
   ]
  },
  {
   "cell_type": "code",
   "execution_count": 3,
   "metadata": {},
   "outputs": [
    {
     "data": {
      "text/html": [
       "<div>\n",
       "<style scoped>\n",
       "    .dataframe tbody tr th:only-of-type {\n",
       "        vertical-align: middle;\n",
       "    }\n",
       "\n",
       "    .dataframe tbody tr th {\n",
       "        vertical-align: top;\n",
       "    }\n",
       "\n",
       "    .dataframe thead th {\n",
       "        text-align: right;\n",
       "    }\n",
       "</style>\n",
       "<table border=\"1\" class=\"dataframe\">\n",
       "  <thead>\n",
       "    <tr style=\"text-align: right;\">\n",
       "      <th></th>\n",
       "      <th>IP_PATIENT_ID</th>\n",
       "      <th>AGE</th>\n",
       "      <th>SEX</th>\n",
       "      <th>RACE</th>\n",
       "      <th>ETHNICITY</th>\n",
       "      <th>VITAL_STATUS</th>\n",
       "      <th>LANGUAGE</th>\n",
       "      <th>MARITAL_STATUS</th>\n",
       "      <th>SEXUAL_ORIENTATION</th>\n",
       "      <th>RELIGION</th>\n",
       "      <th>ADI_NATRANK</th>\n",
       "      <th>ADI_STATERNK</th>\n",
       "      <th>EDUCATION</th>\n",
       "      <th>INCOME</th>\n",
       "      <th>SVI_SOCIO_ECON</th>\n",
       "      <th>SVI_HCOMP</th>\n",
       "      <th>SVI_MINO_LANG</th>\n",
       "      <th>SVI_HTYPE_TRANS</th>\n",
       "      <th>SVI_TOTAL</th>\n",
       "    </tr>\n",
       "  </thead>\n",
       "  <tbody>\n",
       "    <tr>\n",
       "      <th>0</th>\n",
       "      <td>IPPAT_101101099917108</td>\n",
       "      <td>60.0</td>\n",
       "      <td>Male</td>\n",
       "      <td>White or Caucasian</td>\n",
       "      <td>Unknown</td>\n",
       "      <td>Not Known Deceased</td>\n",
       "      <td>English</td>\n",
       "      <td>Single</td>\n",
       "      <td>NaN</td>\n",
       "      <td>Unknown</td>\n",
       "      <td>9.0</td>\n",
       "      <td>4.0</td>\n",
       "      <td>SHRINE|EDU:30-40</td>\n",
       "      <td>SHRINE|INC:100k-150k</td>\n",
       "      <td>0.3697</td>\n",
       "      <td>0.5022</td>\n",
       "      <td>0.7505</td>\n",
       "      <td>0.8394</td>\n",
       "      <td>0.6433</td>\n",
       "    </tr>\n",
       "    <tr>\n",
       "      <th>1</th>\n",
       "      <td>IPPAT_101101099942813</td>\n",
       "      <td>101.0</td>\n",
       "      <td>Female</td>\n",
       "      <td>Unknown</td>\n",
       "      <td>Unknown</td>\n",
       "      <td>Not Known Deceased</td>\n",
       "      <td>Unknown</td>\n",
       "      <td>Unknown</td>\n",
       "      <td>NaN</td>\n",
       "      <td>Unknown</td>\n",
       "      <td>NaN</td>\n",
       "      <td>NaN</td>\n",
       "      <td>NaN</td>\n",
       "      <td>NaN</td>\n",
       "      <td>NaN</td>\n",
       "      <td>NaN</td>\n",
       "      <td>NaN</td>\n",
       "      <td>NaN</td>\n",
       "      <td>NaN</td>\n",
       "    </tr>\n",
       "    <tr>\n",
       "      <th>2</th>\n",
       "      <td>IPPAT_101101099967579</td>\n",
       "      <td>53.0</td>\n",
       "      <td>Male</td>\n",
       "      <td>Unknown</td>\n",
       "      <td>Unknown</td>\n",
       "      <td>Not Known Deceased</td>\n",
       "      <td>English</td>\n",
       "      <td>Single</td>\n",
       "      <td>NaN</td>\n",
       "      <td>Christian</td>\n",
       "      <td>NaN</td>\n",
       "      <td>NaN</td>\n",
       "      <td>SHRINE|EDU:50-60</td>\n",
       "      <td>SHRINE|INC:100k-150k</td>\n",
       "      <td>NaN</td>\n",
       "      <td>NaN</td>\n",
       "      <td>NaN</td>\n",
       "      <td>NaN</td>\n",
       "      <td>NaN</td>\n",
       "    </tr>\n",
       "    <tr>\n",
       "      <th>3</th>\n",
       "      <td>IPPAT_101101099971777</td>\n",
       "      <td>107.0</td>\n",
       "      <td>Female</td>\n",
       "      <td>White or Caucasian</td>\n",
       "      <td>Unknown</td>\n",
       "      <td>Not Known Deceased</td>\n",
       "      <td>English</td>\n",
       "      <td>Widowed</td>\n",
       "      <td>NaN</td>\n",
       "      <td>Methodist</td>\n",
       "      <td>8.0</td>\n",
       "      <td>3.0</td>\n",
       "      <td>SHRINE|EDU:40-50</td>\n",
       "      <td>SHRINE|INC:100k-150k</td>\n",
       "      <td>0.0840</td>\n",
       "      <td>0.3945</td>\n",
       "      <td>0.7175</td>\n",
       "      <td>0.3115</td>\n",
       "      <td>0.2707</td>\n",
       "    </tr>\n",
       "    <tr>\n",
       "      <th>4</th>\n",
       "      <td>IPPAT_101101099983912</td>\n",
       "      <td>60.0</td>\n",
       "      <td>Female</td>\n",
       "      <td>White or Caucasian</td>\n",
       "      <td>Unknown</td>\n",
       "      <td>Not Known Deceased</td>\n",
       "      <td>English</td>\n",
       "      <td>Single</td>\n",
       "      <td>NaN</td>\n",
       "      <td>Jewish</td>\n",
       "      <td>NaN</td>\n",
       "      <td>NaN</td>\n",
       "      <td>NaN</td>\n",
       "      <td>NaN</td>\n",
       "      <td>NaN</td>\n",
       "      <td>NaN</td>\n",
       "      <td>NaN</td>\n",
       "      <td>NaN</td>\n",
       "      <td>NaN</td>\n",
       "    </tr>\n",
       "    <tr>\n",
       "      <th>...</th>\n",
       "      <td>...</td>\n",
       "      <td>...</td>\n",
       "      <td>...</td>\n",
       "      <td>...</td>\n",
       "      <td>...</td>\n",
       "      <td>...</td>\n",
       "      <td>...</td>\n",
       "      <td>...</td>\n",
       "      <td>...</td>\n",
       "      <td>...</td>\n",
       "      <td>...</td>\n",
       "      <td>...</td>\n",
       "      <td>...</td>\n",
       "      <td>...</td>\n",
       "      <td>...</td>\n",
       "      <td>...</td>\n",
       "      <td>...</td>\n",
       "      <td>...</td>\n",
       "      <td>...</td>\n",
       "    </tr>\n",
       "    <tr>\n",
       "      <th>495</th>\n",
       "      <td>IPPAT_101101115139377</td>\n",
       "      <td>71.0</td>\n",
       "      <td>Female</td>\n",
       "      <td>Unknown</td>\n",
       "      <td>Unknown</td>\n",
       "      <td>Not Known Deceased</td>\n",
       "      <td>English</td>\n",
       "      <td>Unknown</td>\n",
       "      <td>NaN</td>\n",
       "      <td>Unknown</td>\n",
       "      <td>4.0</td>\n",
       "      <td>1.0</td>\n",
       "      <td>SHRINE|EDU:60-70</td>\n",
       "      <td>SHRINE|INC:150k-200k</td>\n",
       "      <td>0.1490</td>\n",
       "      <td>0.1818</td>\n",
       "      <td>0.3746</td>\n",
       "      <td>0.3189</td>\n",
       "      <td>0.1695</td>\n",
       "    </tr>\n",
       "    <tr>\n",
       "      <th>496</th>\n",
       "      <td>IPPAT_101101115160892</td>\n",
       "      <td>46.0</td>\n",
       "      <td>Male</td>\n",
       "      <td>White or Caucasian</td>\n",
       "      <td>Not Hispanic or Latino</td>\n",
       "      <td>Not Known Deceased</td>\n",
       "      <td>English</td>\n",
       "      <td>Single</td>\n",
       "      <td>NaN</td>\n",
       "      <td>Unknown</td>\n",
       "      <td>NaN</td>\n",
       "      <td>NaN</td>\n",
       "      <td>NaN</td>\n",
       "      <td>NaN</td>\n",
       "      <td>NaN</td>\n",
       "      <td>NaN</td>\n",
       "      <td>NaN</td>\n",
       "      <td>NaN</td>\n",
       "      <td>NaN</td>\n",
       "    </tr>\n",
       "    <tr>\n",
       "      <th>497</th>\n",
       "      <td>IPPAT_101101115166267</td>\n",
       "      <td>24.0</td>\n",
       "      <td>Male</td>\n",
       "      <td>White or Caucasian</td>\n",
       "      <td>Hispanic or Latino</td>\n",
       "      <td>Not Known Deceased</td>\n",
       "      <td>English</td>\n",
       "      <td>Single</td>\n",
       "      <td>NaN</td>\n",
       "      <td>Agnostic</td>\n",
       "      <td>NaN</td>\n",
       "      <td>NaN</td>\n",
       "      <td>SHRINE|EDU:70-80</td>\n",
       "      <td>SHRINE|INC:100k-150k</td>\n",
       "      <td>NaN</td>\n",
       "      <td>NaN</td>\n",
       "      <td>NaN</td>\n",
       "      <td>NaN</td>\n",
       "      <td>NaN</td>\n",
       "    </tr>\n",
       "    <tr>\n",
       "      <th>498</th>\n",
       "      <td>IPPAT_101101115173222</td>\n",
       "      <td>40.0</td>\n",
       "      <td>Male</td>\n",
       "      <td>NaN</td>\n",
       "      <td>Unknown</td>\n",
       "      <td>Not Known Deceased</td>\n",
       "      <td>English</td>\n",
       "      <td>Unknown</td>\n",
       "      <td>NaN</td>\n",
       "      <td>Unknown</td>\n",
       "      <td>NaN</td>\n",
       "      <td>NaN</td>\n",
       "      <td>NaN</td>\n",
       "      <td>NaN</td>\n",
       "      <td>NaN</td>\n",
       "      <td>NaN</td>\n",
       "      <td>NaN</td>\n",
       "      <td>NaN</td>\n",
       "      <td>NaN</td>\n",
       "    </tr>\n",
       "    <tr>\n",
       "      <th>499</th>\n",
       "      <td>IPPAT_101101115185525</td>\n",
       "      <td>60.0</td>\n",
       "      <td>Male</td>\n",
       "      <td>White or Caucasian</td>\n",
       "      <td>Not Hispanic or Latino</td>\n",
       "      <td>Not Known Deceased</td>\n",
       "      <td>English</td>\n",
       "      <td>Married</td>\n",
       "      <td>NaN</td>\n",
       "      <td>Catholic</td>\n",
       "      <td>5.0</td>\n",
       "      <td>3.0</td>\n",
       "      <td>SHRINE|EDU:30-40</td>\n",
       "      <td>SHRINE|INC:100k-150k</td>\n",
       "      <td>0.3825</td>\n",
       "      <td>0.3197</td>\n",
       "      <td>0.5658</td>\n",
       "      <td>0.4004</td>\n",
       "      <td>0.3903</td>\n",
       "    </tr>\n",
       "  </tbody>\n",
       "</table>\n",
       "<p>500 rows × 19 columns</p>\n",
       "</div>"
      ],
      "text/plain": [
       "             IP_PATIENT_ID    AGE     SEX                RACE  \\\n",
       "0    IPPAT_101101099917108   60.0    Male  White or Caucasian   \n",
       "1    IPPAT_101101099942813  101.0  Female             Unknown   \n",
       "2    IPPAT_101101099967579   53.0    Male             Unknown   \n",
       "3    IPPAT_101101099971777  107.0  Female  White or Caucasian   \n",
       "4    IPPAT_101101099983912   60.0  Female  White or Caucasian   \n",
       "..                     ...    ...     ...                 ...   \n",
       "495  IPPAT_101101115139377   71.0  Female             Unknown   \n",
       "496  IPPAT_101101115160892   46.0    Male  White or Caucasian   \n",
       "497  IPPAT_101101115166267   24.0    Male  White or Caucasian   \n",
       "498  IPPAT_101101115173222   40.0    Male                 NaN   \n",
       "499  IPPAT_101101115185525   60.0    Male  White or Caucasian   \n",
       "\n",
       "                  ETHNICITY        VITAL_STATUS LANGUAGE MARITAL_STATUS  \\\n",
       "0                   Unknown  Not Known Deceased  English         Single   \n",
       "1                   Unknown  Not Known Deceased  Unknown        Unknown   \n",
       "2                   Unknown  Not Known Deceased  English         Single   \n",
       "3                   Unknown  Not Known Deceased  English        Widowed   \n",
       "4                   Unknown  Not Known Deceased  English         Single   \n",
       "..                      ...                 ...      ...            ...   \n",
       "495                 Unknown  Not Known Deceased  English        Unknown   \n",
       "496  Not Hispanic or Latino  Not Known Deceased  English         Single   \n",
       "497      Hispanic or Latino  Not Known Deceased  English         Single   \n",
       "498                 Unknown  Not Known Deceased  English        Unknown   \n",
       "499  Not Hispanic or Latino  Not Known Deceased  English        Married   \n",
       "\n",
       "    SEXUAL_ORIENTATION   RELIGION  ADI_NATRANK  ADI_STATERNK  \\\n",
       "0                  NaN    Unknown          9.0           4.0   \n",
       "1                  NaN    Unknown          NaN           NaN   \n",
       "2                  NaN  Christian          NaN           NaN   \n",
       "3                  NaN  Methodist          8.0           3.0   \n",
       "4                  NaN     Jewish          NaN           NaN   \n",
       "..                 ...        ...          ...           ...   \n",
       "495                NaN    Unknown          4.0           1.0   \n",
       "496                NaN    Unknown          NaN           NaN   \n",
       "497                NaN   Agnostic          NaN           NaN   \n",
       "498                NaN    Unknown          NaN           NaN   \n",
       "499                NaN   Catholic          5.0           3.0   \n",
       "\n",
       "            EDUCATION                INCOME  SVI_SOCIO_ECON  SVI_HCOMP  \\\n",
       "0    SHRINE|EDU:30-40  SHRINE|INC:100k-150k          0.3697     0.5022   \n",
       "1                 NaN                   NaN             NaN        NaN   \n",
       "2    SHRINE|EDU:50-60  SHRINE|INC:100k-150k             NaN        NaN   \n",
       "3    SHRINE|EDU:40-50  SHRINE|INC:100k-150k          0.0840     0.3945   \n",
       "4                 NaN                   NaN             NaN        NaN   \n",
       "..                ...                   ...             ...        ...   \n",
       "495  SHRINE|EDU:60-70  SHRINE|INC:150k-200k          0.1490     0.1818   \n",
       "496               NaN                   NaN             NaN        NaN   \n",
       "497  SHRINE|EDU:70-80  SHRINE|INC:100k-150k             NaN        NaN   \n",
       "498               NaN                   NaN             NaN        NaN   \n",
       "499  SHRINE|EDU:30-40  SHRINE|INC:100k-150k          0.3825     0.3197   \n",
       "\n",
       "     SVI_MINO_LANG  SVI_HTYPE_TRANS  SVI_TOTAL  \n",
       "0           0.7505           0.8394     0.6433  \n",
       "1              NaN              NaN        NaN  \n",
       "2              NaN              NaN        NaN  \n",
       "3           0.7175           0.3115     0.2707  \n",
       "4              NaN              NaN        NaN  \n",
       "..             ...              ...        ...  \n",
       "495         0.3746           0.3189     0.1695  \n",
       "496            NaN              NaN        NaN  \n",
       "497            NaN              NaN        NaN  \n",
       "498            NaN              NaN        NaN  \n",
       "499         0.5658           0.4004     0.3903  \n",
       "\n",
       "[500 rows x 19 columns]"
      ]
     },
     "execution_count": 3,
     "metadata": {},
     "output_type": "execute_result"
    }
   ],
   "source": [
    "patient_demographics_df = pd.read_csv('Data/Patient_Demographics.csv')\n",
    "patient_demographics_df"
   ]
  },
  {
   "cell_type": "code",
   "execution_count": 4,
   "metadata": {},
   "outputs": [
    {
     "data": {
      "text/html": [
       "<div>\n",
       "<style scoped>\n",
       "    .dataframe tbody tr th:only-of-type {\n",
       "        vertical-align: middle;\n",
       "    }\n",
       "\n",
       "    .dataframe tbody tr th {\n",
       "        vertical-align: top;\n",
       "    }\n",
       "\n",
       "    .dataframe thead th {\n",
       "        text-align: right;\n",
       "    }\n",
       "</style>\n",
       "<table border=\"1\" class=\"dataframe\">\n",
       "  <thead>\n",
       "    <tr style=\"text-align: right;\">\n",
       "      <th></th>\n",
       "      <th>COLUMN</th>\n",
       "      <th>NULLS</th>\n",
       "      <th>PERCENT</th>\n",
       "    </tr>\n",
       "  </thead>\n",
       "  <tbody>\n",
       "    <tr>\n",
       "      <th>0</th>\n",
       "      <td>IP_PATIENT_ID</td>\n",
       "      <td>0</td>\n",
       "      <td>0.0</td>\n",
       "    </tr>\n",
       "    <tr>\n",
       "      <th>1</th>\n",
       "      <td>AGE</td>\n",
       "      <td>5</td>\n",
       "      <td>1.0</td>\n",
       "    </tr>\n",
       "    <tr>\n",
       "      <th>2</th>\n",
       "      <td>SEX</td>\n",
       "      <td>0</td>\n",
       "      <td>0.0</td>\n",
       "    </tr>\n",
       "    <tr>\n",
       "      <th>3</th>\n",
       "      <td>RACE</td>\n",
       "      <td>47</td>\n",
       "      <td>9.4</td>\n",
       "    </tr>\n",
       "    <tr>\n",
       "      <th>4</th>\n",
       "      <td>ETHNICITY</td>\n",
       "      <td>0</td>\n",
       "      <td>0.0</td>\n",
       "    </tr>\n",
       "    <tr>\n",
       "      <th>5</th>\n",
       "      <td>VITAL_STATUS</td>\n",
       "      <td>0</td>\n",
       "      <td>0.0</td>\n",
       "    </tr>\n",
       "    <tr>\n",
       "      <th>6</th>\n",
       "      <td>LANGUAGE</td>\n",
       "      <td>0</td>\n",
       "      <td>0.0</td>\n",
       "    </tr>\n",
       "    <tr>\n",
       "      <th>7</th>\n",
       "      <td>MARITAL_STATUS</td>\n",
       "      <td>0</td>\n",
       "      <td>0.0</td>\n",
       "    </tr>\n",
       "    <tr>\n",
       "      <th>8</th>\n",
       "      <td>SEXUAL_ORIENTATION</td>\n",
       "      <td>475</td>\n",
       "      <td>95.0</td>\n",
       "    </tr>\n",
       "    <tr>\n",
       "      <th>9</th>\n",
       "      <td>RELIGION</td>\n",
       "      <td>0</td>\n",
       "      <td>0.0</td>\n",
       "    </tr>\n",
       "    <tr>\n",
       "      <th>10</th>\n",
       "      <td>ADI_NATRANK</td>\n",
       "      <td>238</td>\n",
       "      <td>47.6</td>\n",
       "    </tr>\n",
       "    <tr>\n",
       "      <th>11</th>\n",
       "      <td>ADI_STATERNK</td>\n",
       "      <td>238</td>\n",
       "      <td>47.6</td>\n",
       "    </tr>\n",
       "    <tr>\n",
       "      <th>12</th>\n",
       "      <td>EDUCATION</td>\n",
       "      <td>171</td>\n",
       "      <td>34.2</td>\n",
       "    </tr>\n",
       "    <tr>\n",
       "      <th>13</th>\n",
       "      <td>INCOME</td>\n",
       "      <td>142</td>\n",
       "      <td>28.4</td>\n",
       "    </tr>\n",
       "    <tr>\n",
       "      <th>14</th>\n",
       "      <td>SVI_SOCIO_ECON</td>\n",
       "      <td>219</td>\n",
       "      <td>43.8</td>\n",
       "    </tr>\n",
       "    <tr>\n",
       "      <th>15</th>\n",
       "      <td>SVI_HCOMP</td>\n",
       "      <td>219</td>\n",
       "      <td>43.8</td>\n",
       "    </tr>\n",
       "    <tr>\n",
       "      <th>16</th>\n",
       "      <td>SVI_MINO_LANG</td>\n",
       "      <td>219</td>\n",
       "      <td>43.8</td>\n",
       "    </tr>\n",
       "    <tr>\n",
       "      <th>17</th>\n",
       "      <td>SVI_HTYPE_TRANS</td>\n",
       "      <td>219</td>\n",
       "      <td>43.8</td>\n",
       "    </tr>\n",
       "    <tr>\n",
       "      <th>18</th>\n",
       "      <td>SVI_TOTAL</td>\n",
       "      <td>219</td>\n",
       "      <td>43.8</td>\n",
       "    </tr>\n",
       "  </tbody>\n",
       "</table>\n",
       "</div>"
      ],
      "text/plain": [
       "                COLUMN  NULLS  PERCENT\n",
       "0        IP_PATIENT_ID      0      0.0\n",
       "1                  AGE      5      1.0\n",
       "2                  SEX      0      0.0\n",
       "3                 RACE     47      9.4\n",
       "4            ETHNICITY      0      0.0\n",
       "5         VITAL_STATUS      0      0.0\n",
       "6             LANGUAGE      0      0.0\n",
       "7       MARITAL_STATUS      0      0.0\n",
       "8   SEXUAL_ORIENTATION    475     95.0\n",
       "9             RELIGION      0      0.0\n",
       "10         ADI_NATRANK    238     47.6\n",
       "11        ADI_STATERNK    238     47.6\n",
       "12           EDUCATION    171     34.2\n",
       "13              INCOME    142     28.4\n",
       "14      SVI_SOCIO_ECON    219     43.8\n",
       "15           SVI_HCOMP    219     43.8\n",
       "16       SVI_MINO_LANG    219     43.8\n",
       "17     SVI_HTYPE_TRANS    219     43.8\n",
       "18           SVI_TOTAL    219     43.8"
      ]
     },
     "execution_count": 4,
     "metadata": {},
     "output_type": "execute_result"
    }
   ],
   "source": [
    "missingness(patient_demographics_df)"
   ]
  },
  {
   "cell_type": "code",
   "execution_count": 5,
   "metadata": {},
   "outputs": [
    {
     "data": {
      "text/html": [
       "<div>\n",
       "<style scoped>\n",
       "    .dataframe tbody tr th:only-of-type {\n",
       "        vertical-align: middle;\n",
       "    }\n",
       "\n",
       "    .dataframe tbody tr th {\n",
       "        vertical-align: top;\n",
       "    }\n",
       "\n",
       "    .dataframe thead th {\n",
       "        text-align: right;\n",
       "    }\n",
       "</style>\n",
       "<table border=\"1\" class=\"dataframe\">\n",
       "  <thead>\n",
       "    <tr style=\"text-align: right;\">\n",
       "      <th></th>\n",
       "      <th>LANGUAGE</th>\n",
       "      <th>COUNT</th>\n",
       "      <th>PERCENT</th>\n",
       "    </tr>\n",
       "  </thead>\n",
       "  <tbody>\n",
       "    <tr>\n",
       "      <th>0</th>\n",
       "      <td>English</td>\n",
       "      <td>284</td>\n",
       "      <td>56.8</td>\n",
       "    </tr>\n",
       "    <tr>\n",
       "      <th>1</th>\n",
       "      <td>Unknown</td>\n",
       "      <td>184</td>\n",
       "      <td>36.8</td>\n",
       "    </tr>\n",
       "    <tr>\n",
       "      <th>2</th>\n",
       "      <td>Spanish</td>\n",
       "      <td>24</td>\n",
       "      <td>4.8</td>\n",
       "    </tr>\n",
       "    <tr>\n",
       "      <th>3</th>\n",
       "      <td>Armenian</td>\n",
       "      <td>2</td>\n",
       "      <td>0.4</td>\n",
       "    </tr>\n",
       "    <tr>\n",
       "      <th>4</th>\n",
       "      <td>Arabic</td>\n",
       "      <td>2</td>\n",
       "      <td>0.4</td>\n",
       "    </tr>\n",
       "    <tr>\n",
       "      <th>5</th>\n",
       "      <td>Chinese (Other)</td>\n",
       "      <td>1</td>\n",
       "      <td>0.2</td>\n",
       "    </tr>\n",
       "    <tr>\n",
       "      <th>6</th>\n",
       "      <td>Hindi</td>\n",
       "      <td>1</td>\n",
       "      <td>0.2</td>\n",
       "    </tr>\n",
       "    <tr>\n",
       "      <th>7</th>\n",
       "      <td>Farsi, Persian</td>\n",
       "      <td>1</td>\n",
       "      <td>0.2</td>\n",
       "    </tr>\n",
       "    <tr>\n",
       "      <th>8</th>\n",
       "      <td>Vietnamese</td>\n",
       "      <td>1</td>\n",
       "      <td>0.2</td>\n",
       "    </tr>\n",
       "  </tbody>\n",
       "</table>\n",
       "</div>"
      ],
      "text/plain": [
       "          LANGUAGE  COUNT  PERCENT\n",
       "0          English    284     56.8\n",
       "1          Unknown    184     36.8\n",
       "2          Spanish     24      4.8\n",
       "3         Armenian      2      0.4\n",
       "4           Arabic      2      0.4\n",
       "5  Chinese (Other)      1      0.2\n",
       "6            Hindi      1      0.2\n",
       "7   Farsi, Persian      1      0.2\n",
       "8       Vietnamese      1      0.2"
      ]
     },
     "execution_count": 5,
     "metadata": {},
     "output_type": "execute_result"
    }
   ],
   "source": [
    "catbar(patient_demographics_df, 'LANGUAGE', graph=False) ## Set graph=True for Bar graph"
   ]
  },
  {
   "cell_type": "code",
   "execution_count": null,
   "metadata": {},
   "outputs": [],
   "source": [
    "catbar(patient_demographics_df, 'SEX', graph=False) ## Set graph=True for Bar graph"
   ]
  },
  {
   "cell_type": "code",
   "execution_count": null,
   "metadata": {},
   "outputs": [],
   "source": [
    "catbar(patient_demographics_df, 'MARITAL_STATUS', graph=False) ## Set graph=True for Bar graph"
   ]
  },
  {
   "cell_type": "code",
   "execution_count": null,
   "metadata": {},
   "outputs": [],
   "source": [
    "catbar(patient_demographics_df, 'ETHNICITY', graph=False) ## Set graph=True for Bar graph"
   ]
  },
  {
   "cell_type": "code",
   "execution_count": null,
   "metadata": {},
   "outputs": [],
   "source": [
    "numstats(patient_demographics_df, 'AGE')"
   ]
  },
  {
   "cell_type": "code",
   "execution_count": null,
   "metadata": {},
   "outputs": [],
   "source": [
    "catbar(patient_demographics_df, 'RELIGION', graph=False) ## Set graph=True for Bar graph"
   ]
  },
  {
   "cell_type": "code",
   "execution_count": null,
   "metadata": {},
   "outputs": [],
   "source": [
    "catbar(patient_demographics_df, 'RACE', graph=False) ## Set graph=True for Bar graph"
   ]
  },
  {
   "cell_type": "code",
   "execution_count": null,
   "metadata": {},
   "outputs": [],
   "source": [
    "catbar(patient_demographics_df, 'SEXUAL_ORIENTATION', graph=False) ## Set graph=True for Bar graph"
   ]
  },
  {
   "cell_type": "markdown",
   "metadata": {},
   "source": [
    "## ENCOUNTERS"
   ]
  },
  {
   "cell_type": "code",
   "execution_count": null,
   "metadata": {},
   "outputs": [],
   "source": [
    "encounters_df = pd.read_csv('Data/Encounters.csv')\n",
    "encounters_df"
   ]
  },
  {
   "cell_type": "code",
   "execution_count": null,
   "metadata": {},
   "outputs": [],
   "source": [
    "missingness(encounters_df)"
   ]
  },
  {
   "cell_type": "code",
   "execution_count": null,
   "metadata": {},
   "outputs": [],
   "source": [
    "dateline(encounters_df, 'ENCOUNTER_DATE')"
   ]
  },
  {
   "cell_type": "code",
   "execution_count": null,
   "metadata": {},
   "outputs": [],
   "source": [
    "numstats(encounters_df, 'ENCOUNTER_AGE')"
   ]
  },
  {
   "cell_type": "code",
   "execution_count": null,
   "metadata": {},
   "outputs": [],
   "source": [
    "catbar(encounters_df, 'EPIC_ENCOUNTER_TYPE', graph=False) ## Set graph=True for Bar graph"
   ]
  },
  {
   "cell_type": "code",
   "execution_count": null,
   "metadata": {},
   "outputs": [],
   "source": [
    "catbar(encounters_df, 'IP_VISIT_TYPE', graph=False) ## Set graph=True for Bar graph"
   ]
  },
  {
   "cell_type": "code",
   "execution_count": null,
   "metadata": {},
   "outputs": [],
   "source": [
    "catbar(encounters_df, 'EPIC_DEPARTMENT_NAME', graph=False) ## Set graph=True for Bar graph"
   ]
  },
  {
   "cell_type": "code",
   "execution_count": null,
   "metadata": {},
   "outputs": [],
   "source": [
    "catbar(encounters_df, 'HOSP_DISCHARGE_DISPOSITION', graph=False) ## Set graph=True for Bar graph"
   ]
  },
  {
   "cell_type": "code",
   "execution_count": null,
   "metadata": {},
   "outputs": [],
   "source": [
    "catbar(encounters_df, 'ED_DISPOSITION', graph=False) ## Set graph=True for Bar graph"
   ]
  },
  {
   "cell_type": "code",
   "execution_count": null,
   "metadata": {},
   "outputs": [],
   "source": [
    "catbar(encounters_df, 'DEPARTMENT_SPECIALTY', graph=False) ## Set graph=True for Bar graph"
   ]
  },
  {
   "cell_type": "code",
   "execution_count": null,
   "metadata": {},
   "outputs": [],
   "source": [
    "catbar(encounters_df, 'LOCATION', graph=False) ## Set graph=True for Bar graph"
   ]
  },
  {
   "cell_type": "markdown",
   "metadata": {},
   "source": [
    "## ENCOUNTER_DIAGNOSES"
   ]
  },
  {
   "cell_type": "code",
   "execution_count": null,
   "metadata": {},
   "outputs": [],
   "source": [
    "encounter_diagnoses_df = pd.read_csv('Data/Encounter_Diagnoses.csv')\n",
    "encounter_diagnoses_df"
   ]
  },
  {
   "cell_type": "code",
   "execution_count": null,
   "metadata": {},
   "outputs": [],
   "source": [
    "missingness(encounter_diagnoses_df)"
   ]
  },
  {
   "cell_type": "code",
   "execution_count": null,
   "metadata": {},
   "outputs": [],
   "source": [
    "dateline(encounter_diagnoses_df, 'DIAGNOSIS_DATE')"
   ]
  },
  {
   "cell_type": "code",
   "execution_count": null,
   "metadata": {},
   "outputs": [],
   "source": [
    "catbar(encounter_diagnoses_df, 'PRESENT_ON_ADMISSION', graph=False) ## Set graph=True for Bar graph"
   ]
  },
  {
   "cell_type": "code",
   "execution_count": null,
   "metadata": {},
   "outputs": [],
   "source": [
    "catbar(encounter_diagnoses_df, 'ADMISSION_DIAGNOSIS_FLAG', graph=False) ## Set graph=True for Bar graph"
   ]
  },
  {
   "cell_type": "code",
   "execution_count": null,
   "metadata": {},
   "outputs": [],
   "source": [
    "catbar(encounter_diagnoses_df, 'HOSPITAL_FINAL_DIAGNOSIS', graph=False) ## Set graph=True for Bar graph"
   ]
  },
  {
   "cell_type": "code",
   "execution_count": null,
   "metadata": {},
   "outputs": [],
   "source": [
    "catbar(encounter_diagnoses_df, 'PRIMARY_DIAGNOSIS_FLAG', graph=False) ## Set graph=True for Bar graph"
   ]
  },
  {
   "cell_type": "markdown",
   "metadata": {},
   "source": [
    "## PROCEDURES"
   ]
  },
  {
   "cell_type": "code",
   "execution_count": null,
   "metadata": {},
   "outputs": [],
   "source": [
    "procedures_df = pd.read_csv('Data/Procedures.csv')\n",
    "procedures_df"
   ]
  },
  {
   "cell_type": "code",
   "execution_count": null,
   "metadata": {},
   "outputs": [],
   "source": [
    "missingness(procedures_df)"
   ]
  },
  {
   "cell_type": "code",
   "execution_count": null,
   "metadata": {},
   "outputs": [],
   "source": [
    "dateline(procedures_df, 'PROCEDURE_DATE')"
   ]
  },
  {
   "cell_type": "code",
   "execution_count": null,
   "metadata": {},
   "outputs": [],
   "source": [
    "catbar(procedures_df, 'PROCEDURE_DESCRIPTION', graph=False) ## Set graph=True for Bar graph"
   ]
  },
  {
   "cell_type": "code",
   "execution_count": null,
   "metadata": {},
   "outputs": [],
   "source": [
    "catbar(procedures_df, 'PROCEDURE_CODE', graph=False) ## Set graph=True for Bar graph"
   ]
  },
  {
   "cell_type": "code",
   "execution_count": null,
   "metadata": {},
   "outputs": [],
   "source": [
    "catbar(procedures_df, 'PROCEDURE_TYPE', graph=False) ## Set graph=True for Bar graph"
   ]
  },
  {
   "cell_type": "markdown",
   "metadata": {},
   "source": [
    "## FLOWSHEET_VITALS"
   ]
  },
  {
   "cell_type": "code",
   "execution_count": null,
   "metadata": {},
   "outputs": [],
   "source": [
    "flowsheet_vitals_df = pd.read_csv('Data/Flowsheet_Vitals.csv')\n",
    "flowsheet_vitals_df"
   ]
  },
  {
   "cell_type": "code",
   "execution_count": null,
   "metadata": {},
   "outputs": [],
   "source": [
    "missingness(flowsheet_vitals_df)"
   ]
  },
  {
   "cell_type": "code",
   "execution_count": null,
   "metadata": {},
   "outputs": [],
   "source": [
    "dateline(flowsheet_vitals_df, 'VITAL_SIGN_TAKEN_TIME')"
   ]
  },
  {
   "cell_type": "code",
   "execution_count": null,
   "metadata": {},
   "outputs": [],
   "source": [
    "catbar(flowsheet_vitals_df, 'VITAL_SIGN_TYPE', graph=False) ## Set graph=True for Bar graph"
   ]
  },
  {
   "cell_type": "code",
   "execution_count": null,
   "metadata": {},
   "outputs": [],
   "source": [
    "flow_stats(flowsheet_vitals_df)"
   ]
  },
  {
   "cell_type": "markdown",
   "metadata": {},
   "source": [
    "## LABS"
   ]
  },
  {
   "cell_type": "code",
   "execution_count": null,
   "metadata": {},
   "outputs": [],
   "source": [
    "labs_df = pd.read_csv('Data/Labs.csv')\n",
    "labs_df"
   ]
  },
  {
   "cell_type": "code",
   "execution_count": null,
   "metadata": {},
   "outputs": [],
   "source": [
    "missingness(labs_df)"
   ]
  },
  {
   "cell_type": "code",
   "execution_count": null,
   "metadata": {},
   "outputs": [],
   "source": [
    "dateline(labs_df, 'ORDER_TIME')"
   ]
  },
  {
   "cell_type": "code",
   "execution_count": null,
   "metadata": {},
   "outputs": [],
   "source": [
    "catbar(labs_df, 'PROCEDURE_CODE', graph=False) ## Set graph=True for Bar graph"
   ]
  },
  {
   "cell_type": "code",
   "execution_count": null,
   "metadata": {},
   "outputs": [],
   "source": [
    "catbar(labs_df, 'COMPONENT_NAME', graph=False) ## Set graph=True for Bar graph"
   ]
  },
  {
   "cell_type": "code",
   "execution_count": null,
   "metadata": {},
   "outputs": [],
   "source": [
    "catbar(labs_df, 'PROCEDURE_DESCRIPTION', graph=False) ## Set graph=True for Bar graph"
   ]
  },
  {
   "cell_type": "code",
   "execution_count": null,
   "metadata": {},
   "outputs": [],
   "source": [
    "lab_stats(labs_df, top=10)"
   ]
  },
  {
   "cell_type": "markdown",
   "metadata": {},
   "source": [
    "## MEDICATIONS"
   ]
  },
  {
   "cell_type": "code",
   "execution_count": null,
   "metadata": {},
   "outputs": [],
   "source": [
    "medications_df = pd.read_csv('Data/Medications.csv')\n",
    "medications_df"
   ]
  },
  {
   "cell_type": "code",
   "execution_count": null,
   "metadata": {},
   "outputs": [],
   "source": [
    "missingness(medications_df)"
   ]
  },
  {
   "cell_type": "code",
   "execution_count": null,
   "metadata": {},
   "outputs": [],
   "source": [
    "dateline(medications_df, 'ORDER_DATE')"
   ]
  },
  {
   "cell_type": "code",
   "execution_count": null,
   "metadata": {},
   "outputs": [],
   "source": [
    "catbar(medications_df, 'EPIC_MEDICATION_NAME', graph=False) ## Set graph=True for Bar graph"
   ]
  },
  {
   "cell_type": "code",
   "execution_count": null,
   "metadata": {},
   "outputs": [],
   "source": [
    "catbar(medications_df, 'MEDISPAN_GENERIC_NAME', graph=False) ## Set graph=True for Bar graph"
   ]
  },
  {
   "cell_type": "code",
   "execution_count": null,
   "metadata": {},
   "outputs": [],
   "source": [
    "catbar(medications_df, 'MEDISPAN_CLASS_NAME', graph=False) ## Set graph=True for Bar graph"
   ]
  }
 ],
 "metadata": {
  "kernelspec": {
   "display_name": "Python 3",
   "language": "python",
   "name": "python3"
  },
  "language_info": {
   "codemirror_mode": {
    "name": "ipython",
    "version": 3
   },
   "file_extension": ".py",
   "mimetype": "text/x-python",
   "name": "python",
   "nbconvert_exporter": "python",
   "pygments_lexer": "ipython3",
   "version": "3.7.3"
  }
 },
 "nbformat": 4,
 "nbformat_minor": 2
}
